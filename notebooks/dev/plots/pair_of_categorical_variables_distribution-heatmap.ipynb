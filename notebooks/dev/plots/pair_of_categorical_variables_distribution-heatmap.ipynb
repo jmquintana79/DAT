{
 "cells": [
  {
   "cell_type": "markdown",
   "id": "f705d91c-0378-4ea3-aed9-2f2e652b4661",
   "metadata": {
    "pycharm": {
     "name": "#%% md\n"
    }
   },
   "source": [
    "# Pair of categorical variables description: Heatmap\n",
    "\n",
    "Pair of categorical variables description with a plot for one or several columns in a dataframe. "
   ]
  },
  {
   "cell_type": "code",
   "execution_count": 3,
   "id": "bd6aae79-17b3-475f-88b8-fc71e3917a94",
   "metadata": {
    "pycharm": {
     "name": "#%%\n"
    }
   },
   "outputs": [],
   "source": [
    "%matplotlib inline\n",
    "import seaborn as sns\n",
    "sns.set_theme(style=\"whitegrid\")\n",
    "import matplotlib.pyplot as plt\n",
    "import pandas as pd\n",
    "import numpy as np\n",
    "import math"
   ]
  },
  {
   "cell_type": "markdown",
   "id": "44a15fa4-0ffe-4516-ae55-b4696809002c",
   "metadata": {
    "pycharm": {
     "name": "#%% md\n"
    }
   },
   "source": [
    "## data"
   ]
  },
  {
   "cell_type": "code",
   "execution_count": 4,
   "id": "objective-generator",
   "metadata": {
    "pycharm": {
     "name": "#%%\n"
    }
   },
   "outputs": [],
   "source": [
    "\"\"\" tips \"\"\"\n",
    "\n",
    "# load data\n",
    "tips = sns.load_dataset(\"tips\")\n",
    "# get categorical columns\n",
    "cats = ['object', 'category', 'bool', 'datetime64[ns]']\n",
    "cols_cat_tips = tips.select_dtypes(include=cats).columns.tolist()\n",
    "\n",
    "\n",
    "\"\"\" titanic \"\"\"\n",
    "\n",
    "# load data\n",
    "titanic = sns.load_dataset('titanic')\n",
    "# get categorical columns\n",
    "cats = ['object', 'category', 'bool', 'datetime64[ns]']\n",
    "cols_cat_titanic = titanic.select_dtypes(include=cats).columns.tolist()\n",
    "\n",
    "\n",
    "\"\"\" weather \"\"\"\n",
    "\n",
    "# load data\n",
    "path = 'https://raw.githubusercontent.com/jmquintana79/utilsDS/master/scripts/datasets/data/dataset.weather.csv.gz'\n",
    "weather = pd.read_csv(path)\n",
    "weather['datetime'] = pd.to_datetime(weather['datetime'])\n",
    "# get categorical columns\n",
    "cats = ['object', 'category', 'bool']\n",
    "cols_cat_weater = weather.select_dtypes(include=cats).columns.tolist()"
   ]
  },
  {
   "cell_type": "markdown",
   "id": "008a4395-7810-46c2-9db2-31f00cb97adf",
   "metadata": {
    "pycharm": {
     "name": "#%%\n"
    }
   },
   "source": [
    "## plots"
   ]
  },
  {
   "cell_type": "code",
   "execution_count": 5,
   "id": "0f1d1c33-c267-4a28-b621-6de66a4c2b91",
   "metadata": {
    "pycharm": {
     "name": "#%%\n"
    }
   },
   "outputs": [],
   "source": [
    "## multiples plots for selected columns\n",
    "def multiple_plots(df:pd.DataFrame, columns:\"list or str\", plot_function:\"function\", num_plots_per_row:int = 3):\n",
    "    \"\"\"\n",
    "    Multiples plots for selected columns.\n",
    "    df -- Input dataframes.\n",
    "    columns -- Column names to be plotted.\n",
    "    plot_function -- Function to be plotted for each columns.\n",
    "    num_plots_per_row -- Number of plots per row (default, 3).\n",
    "    \"\"\"\n",
    "    # if columns is only one string    \n",
    "    if isinstance(columns, str):\n",
    "        # figsize\n",
    "        figsize = (10, 10)\n",
    "        # number of plots in rows / columns\n",
    "        nrs = ncs = 1\n",
    "    # if is a list\n",
    "    elif isinstance(columns, list):\n",
    "        # number of columns to be ploted\n",
    "        ncolumns = len(columns)\n",
    "        # number of plots in rows / columns\n",
    "        nrs = math.ceil(ncolumns / num_plots_per_row)\n",
    "        ncs = num_plots_per_row if ncolumns >= num_plots_per_row else ncolumns \n",
    "        # figsize\n",
    "        figsize = (ncs*5, nrs*5)    \n",
    "    else:\n",
    "        raise\n",
    "    # create figure and axis    \n",
    "    fig, ax = plt.subplots(ncols = ncs, nrows = nrs, figsize = figsize)\n",
    "    # if axis is an array\n",
    "    if isinstance(ax, np.ndarray):\n",
    "        # reshape\n",
    "        ax = ax.ravel()\n",
    "        # loop of axis\n",
    "        for ii, c in enumerate(columns):\n",
    "            # plot in cells\n",
    "            _ = plot_function(df, c, ax[ii])\n",
    "    # if axis is only one\n",
    "    else:\n",
    "        # plots only one\n",
    "        _ = plot_function(df, columns[0] if len(columns) == 1 else columns, ax)\n",
    "    # display plot\n",
    "    plt.show()\n",
    "    \n",
    "    \n",
    "## plot distribution of two categorical columns\n",
    "def plot_2cat(df:pd.DataFrame, columns:list, ax:\"matplotlib axis\")->\"matplotlib axis\":\n",
    "    # validations\n",
    "    assert len(columns) == 2, \"it is required a pair of columns.\"\n",
    "    for c in columns:\n",
    "        assert c in df.columns.tolist(), f\"column '{c}' is not available.\"\n",
    "    # collect columns\n",
    "    column1, column2 = columns\n",
    "    # collect data\n",
    "    temp = df[[column1, column2]].copy()\n",
    "    # add counter\n",
    "    temp[\"num\"] = np.ones(len(temp), dtype= int)\n",
    "    # count categories and get pivot table\n",
    "    tempp = temp.groupby([column1, column2], as_index = False)[[\"num\"]].sum().pivot(column1, column2, \"num\")\n",
    "    # estimate percent\n",
    "    tempp = tempp *  100. / tempp.sum().sum()   \n",
    "    # display or not annotation\n",
    "    if np.prod(tempp.shape) > 50:\n",
    "        is_annotate = False\n",
    "    else:\n",
    "        is_annotate = True\n",
    "    # plot\n",
    "    ax = sns.heatmap(tempp, annot = is_annotate, fmt = \".2f\", cmap = \"YlGnBu\", ax = ax, cbar_kws={\"label\": \"%\"})  \n",
    "    # return axis\n",
    "    return ax\n",
    "\n",
    "\n",
    "## multiple plots distribution of 2 categorical columns\n",
    "def plots_2cat(df:pd.DataFrame, num_plots_per_row:int = 3, max_num_uniq_values:int = 24)->pd.DataFrame:\n",
    "    \"\"\"\n",
    "    Multiple plots distribution of 2 categorical columns.\n",
    "    df -- Input dataframes.\n",
    "    num_plots_per_row -- Number of plots per row (default, 5).\n",
    "    max_num_uniq_values -- Selected limit of possible number of values (default, 24).\n",
    "    \"\"\"    \n",
    "    # collect numerical columns\n",
    "    cols_cat = df.select_dtypes(include=['object', 'category', 'bool', 'int']).columns.tolist() \n",
    "    # remove categorical columns with too much possible values\n",
    "    cols_cat = [c for c in cols_cat if len(df[c].unique()) <= max_num_uniq_values]\n",
    "    \n",
    "    \n",
    "    \n",
    "    # plot\n",
    "    if len(cols_cat) > 0:\n",
    "        multiple_plots(df, cols_cat, plot_2cat, num_plots_per_row = num_plots_per_row)\n",
    "    else:\n",
    "        raise Exception(f\"There are not any column with less or equal possible values than {max_num_uniq_values}.\")\n",
    "        "
   ]
  },
  {
   "cell_type": "code",
   "execution_count": 6,
   "id": "cefb6268-ba4e-4233-908e-8a869fb3a61f",
   "metadata": {
    "pycharm": {
     "name": "#%%\n"
    }
   },
   "outputs": [
    {
     "data": {
      "image/png": "[encoded data removed]",
      "text/plain": [
       "<Figure size 576x432 with 2 Axes>"
      ]
     },
     "metadata": {},
     "output_type": "display_data"
    }
   ],
   "source": [
    "import matplotlib.pyplot as plt\n",
    "fig, ax = plt.subplots(figsize = (8,6))\n",
    "plot_2cat(weather, cols_cat_weater, ax = ax)\n",
    "plt.show()"
   ]
  },
  {
   "cell_type": "code",
   "execution_count": 7,
   "id": "89249ac4-c4f6-4bba-a5c2-017c83ec6542",
   "metadata": {
    "pycharm": {
     "name": "#%%\n"
    }
   },
   "outputs": [
    {
     "data": {
      "image/png": "[encoded data removed]",
      "text/plain": [
       "<Figure size 576x432 with 2 Axes>"
      ]
     },
     "metadata": {},
     "output_type": "display_data"
    }
   ],
   "source": [
    "import matplotlib.pyplot as plt\n",
    "fig, ax = plt.subplots(figsize = (8,6))\n",
    "plot_2cat(titanic, cols_cat_titanic[2:4], ax = ax)\n",
    "plt.show()"
   ]
  },
  {
   "cell_type": "code",
   "execution_count": null,
   "id": "5a68683a-fea4-4e59-ae48-a78c62c3250e",
   "metadata": {
    "pycharm": {
     "name": "#%%\n"
    }
   },
   "outputs": [],
   "source": []
  },
  {
   "cell_type": "code",
   "execution_count": null,
   "id": "9d57fd4d-deb9-44f0-93ce-755e06c59574",
   "metadata": {},
   "outputs": [],
   "source": []
  }
 ],
 "metadata": {
  "kernelspec": {
   "display_name": "analysis",
   "language": "python",
   "name": "analysis"
  },
  "language_info": {
   "codemirror_mode": {
    "name": "ipython",
    "version": 3
   },
   "file_extension": ".py",
   "mimetype": "text/x-python",
   "name": "python",
   "nbconvert_exporter": "python",
   "pygments_lexer": "ipython3",
   "version": "3.7.0"
  }
 },
 "nbformat": 4,
 "nbformat_minor": 5
}
