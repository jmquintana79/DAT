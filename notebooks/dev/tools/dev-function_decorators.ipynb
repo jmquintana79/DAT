{
 "cells": [
  {
   "cell_type": "markdown",
   "id": "b91c73f7-8372-4b70-9af9-0fb787f9adc2",
   "metadata": {},
   "source": [
    "# Function decorators \n",
    "\n",
    "- Decorator to handle errors."
   ]
  },
  {
   "cell_type": "code",
   "execution_count": 9,
   "id": "064ac455-36bf-4446-95b4-fb5212d985e4",
   "metadata": {},
   "outputs": [],
   "source": [
    "from functools import wraps\n",
    "import time\n",
    "\n",
    "## decorator: handle errors (no impact on help() function)\n",
    "def validait(func):\n",
    "    @wraps(func)\n",
    "    def handle_error(*args, **kwargs):\n",
    "        try:\n",
    "            return func(*args, **kwargs)\n",
    "        except Exception as e:\n",
    "            descr = '[error] Function \"%s()\": %s'%(func.__name__,str(e))\n",
    "            print(descr)\n",
    "    return handle_error\n",
    "\n",
    "\n",
    "## decorator: time spent estimation\n",
    "def timeit(func):\n",
    "    @wraps(func)\n",
    "    def new_func(*args, **kwargs):\n",
    "        start_time = time.time()\n",
    "        result = func(*args, **kwargs)\n",
    "        elapsed_time = time.time() - start_time\n",
    "        print('[info] Function \"{}()\" finished in {:.2f} {}.'.format(\n",
    "            func.__name__, elapsed_time if elapsed_time < 60 else elapsed_time / 60., \"seconds\" if elapsed_time < 60 else \"minutes\"))\n",
    "        return result\n",
    "    return new_func"
   ]
  },
  {
   "cell_type": "code",
   "execution_count": 10,
   "id": "bdf89dd2-5907-4f3a-98d7-b48e606da45d",
   "metadata": {},
   "outputs": [],
   "source": [
    "@timeit\n",
    "@validait\n",
    "def my_function(a:float, b:float)->float:\n",
    "    \"\"\"\n",
    "    Function to test an aritmetic operation.\n",
    "    a -- first number to be used.\n",
    "    b -- second number to be used.\n",
    "    return -- operation result.\n",
    "    \"\"\"\n",
    "    return (a + 2*b) / (a - 1)"
   ]
  },
  {
   "cell_type": "code",
   "execution_count": 11,
   "id": "52f96b55-8619-4ae7-a7a8-5261905b3e3f",
   "metadata": {},
   "outputs": [
    {
     "name": "stdout",
     "output_type": "stream",
     "text": [
      "[info] Function \"my_function()\" finished in 0.00 seconds.\n"
     ]
    },
    {
     "data": {
      "text/plain": [
       "5.333333333333333"
      ]
     },
     "execution_count": 11,
     "metadata": {},
     "output_type": "execute_result"
    }
   ],
   "source": [
    "my_function(4,6)"
   ]
  },
  {
   "cell_type": "code",
   "execution_count": 12,
   "id": "4ff222fb-603f-4110-8453-650bdbe2657c",
   "metadata": {},
   "outputs": [
    {
     "name": "stdout",
     "output_type": "stream",
     "text": [
      "[error] Function \"my_function()\": division by zero\n",
      "[info] Function \"my_function()\" finished in 0.00 seconds.\n"
     ]
    }
   ],
   "source": [
    "my_function(1,3)"
   ]
  },
  {
   "cell_type": "code",
   "execution_count": 13,
   "id": "51e7932d-7433-4d87-b881-865dc8cdb9fc",
   "metadata": {},
   "outputs": [
    {
     "name": "stdout",
     "output_type": "stream",
     "text": [
      "Help on function my_function in module __main__:\n",
      "\n",
      "my_function(a: float, b: float) -> float\n",
      "    Function to test an aritmetic operation.\n",
      "    a -- first number to be used.\n",
      "    b -- second number to be used.\n",
      "    return -- operation result.\n",
      "\n"
     ]
    }
   ],
   "source": [
    "help(my_function)"
   ]
  },
  {
   "cell_type": "code",
   "execution_count": 14,
   "id": "034879b0-6226-4b2f-8f83-1203b1aff36e",
   "metadata": {},
   "outputs": [
    {
     "data": {
      "text/plain": [
       "\u001b[0;31mSignature:\u001b[0m \u001b[0mmy_function\u001b[0m\u001b[0;34m(\u001b[0m\u001b[0ma\u001b[0m\u001b[0;34m:\u001b[0m \u001b[0mfloat\u001b[0m\u001b[0;34m,\u001b[0m \u001b[0mb\u001b[0m\u001b[0;34m:\u001b[0m \u001b[0mfloat\u001b[0m\u001b[0;34m)\u001b[0m \u001b[0;34m->\u001b[0m \u001b[0mfloat\u001b[0m\u001b[0;34m\u001b[0m\u001b[0m\n",
       "\u001b[0;31mDocstring:\u001b[0m\n",
       "Function to test an aritmetic operation.\n",
       "a -- first number to be used.\n",
       "b -- second number to be used.\n",
       "return -- operation result.\n",
       "\u001b[0;31mFile:\u001b[0m      /var/folders/vk/s0y7mtzs23vgwd0s7jck3c_80000gn/T/ipykernel_726/1269535896.py\n",
       "\u001b[0;31mType:\u001b[0m      function\n"
      ]
     },
     "metadata": {},
     "output_type": "display_data"
    }
   ],
   "source": [
    "my_function?"
   ]
  },
  {
   "cell_type": "code",
   "execution_count": null,
   "id": "06089840-ba9e-4203-8e8a-bc40b1c48c91",
   "metadata": {},
   "outputs": [],
   "source": []
  }
 ],
 "metadata": {
  "kernelspec": {
   "display_name": "dat",
   "language": "python",
   "name": "dat"
  },
  "language_info": {
   "codemirror_mode": {
    "name": "ipython",
    "version": 3
   },
   "file_extension": ".py",
   "mimetype": "text/x-python",
   "name": "python",
   "nbconvert_exporter": "python",
   "pygments_lexer": "ipython3",
   "version": "3.7.0"
  }
 },
 "nbformat": 4,
 "nbformat_minor": 5
}
