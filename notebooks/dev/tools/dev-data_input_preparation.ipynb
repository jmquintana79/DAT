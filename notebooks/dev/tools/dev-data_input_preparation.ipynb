{
 "cells": [
  {
   "cell_type": "markdown",
   "id": "8f808f9a-9017-40bc-92f5-2f2e8ef86c68",
   "metadata": {},
   "source": [
    "# Data input preparation\n",
    "\n",
    "- Get a sample if the input dataframe is too large.\n",
    "- Reduce number of possible values in a categorical variable."
   ]
  },
  {
   "cell_type": "code",
   "execution_count": 2,
   "id": "70981ad1-9980-4ec0-b50d-9096036ff336",
   "metadata": {
    "tags": []
   },
   "outputs": [],
   "source": [
    "%matplotlib inline\n",
    "import os\n",
    "import sys\n",
    "sys.path.append(os.path.abspath('../'))\n",
    "import warnings\n",
    "warnings.filterwarnings('ignore')\n",
    "from sklearn.datasets import load_iris\n",
    "import pandas as pd\n",
    "pd.options.display.max_rows = 999\n",
    "pd.options.display.max_columns = 99\n",
    "import numpy as np\n",
    "from datetime import datetime\n",
    "from eda import describe_info, describe_numeric, describe_categorical, describe_datetime, describe_bivariate, describe_missing, describe_duplicates"
   ]
  },
  {
   "cell_type": "markdown",
   "id": "110e9235-a664-443b-98a4-b5da943fb81a",
   "metadata": {},
   "source": [
    "## LOAD *Weather* data"
   ]
  },
  {
   "cell_type": "code",
   "execution_count": 53,
   "id": "42e61dc8",
   "metadata": {},
   "outputs": [
    {
     "data": {
      "text/plain": [
       "(17544, 16)"
      ]
     },
     "execution_count": 53,
     "metadata": {},
     "output_type": "execute_result"
    }
   ],
   "source": [
    "path = 'https://raw.githubusercontent.com/jmquintana79/utilsDS/master/scripts/datasets/data/dataset.weather.csv.gz'\n",
    "data = pd.read_csv(path)\n",
    "data['datetime'] = pd.to_datetime(data['datetime'])\n",
    "data['dtnow'] = [datetime(2022,1,1,12,0,0) for i in range(len(data))]\n",
    "data['dtrandom'] = pd.to_datetime(np.sort(np.random.choice(pd.date_range('2015-01-01', '2018-01-01', freq='H'), len(data), replace=False)))\n",
    "data.shape"
   ]
  },
  {
   "cell_type": "markdown",
   "id": "397957ea-2b01-4033-b17e-e3205c6d7afe",
   "metadata": {},
   "source": [
    "### DATA PROCESSING"
   ]
  },
  {
   "cell_type": "code",
   "execution_count": 52,
   "id": "4b6edbc8-2e3e-4a0d-8725-14541b55d6c4",
   "metadata": {},
   "outputs": [],
   "source": [
    "## data preparation previous to be analized\n",
    "def preparation(df:pd.DataFrame, max_num_rows:int = 5000, max_size_cats:int = 5, verbose:bool = True)->pd.DataFrame:\n",
    "    \"\"\"\n",
    "    Data preparation previous to be analized.\n",
    "    df -- data to be prepared.\n",
    "    max_num_rows -- maximum number of rows allowed without considering a sample (default, 5000).\n",
    "    max_size_cats -- maximum number of possible values in a categorical variable to be allowed (default, 5).\n",
    "    verbose -- display extra information (default, True).\n",
    "    return -- processed data.\n",
    "    \"\"\"\n",
    "\n",
    "    ## get random sample if there are too much data\n",
    "\n",
    "    # validate\n",
    "    if len(df) > max_num_rows:\n",
    "        # get a random sample\n",
    "        df = df.sample(max_num_rows, random_state = 8)\n",
    "        # display\n",
    "        if verbose:\n",
    "            print(f\"[warning] It has taken a random sample with {len(df)} records.\")\n",
    "\n",
    "\n",
    "    ## get simplified categorical columns reducing the number of possible values\n",
    "\n",
    "    # get names of categorical columns\n",
    "    cols_cat = df.select_dtypes(include=['object', 'int64', 'category', 'bool']).columns.values\n",
    "    # validate\n",
    "    if len(cols_cat) > 0:\n",
    "        # loop of variables\n",
    "        for col in cols_cat:\n",
    "            # count categories\n",
    "            temp = data[col].value_counts(normalize=True,sort=True,ascending=False,dropna=True)\n",
    "            # collect names order by frequency\n",
    "            c = temp.index.values\n",
    "            # resize\n",
    "            if len(v) > max_size_cats:\n",
    "                # get columns to be replace by \"other\"\n",
    "                #cols_to_keep = list(c[:max_size_cats-1])\n",
    "                cols_to_replace = list(c[max_size_cats-1:])    \n",
    "                # replace less frequent columns by \"others\"\n",
    "                df[col] = df[col].apply(lambda x: \"other\" if x in cols_to_replace else x)\n",
    "                # validate\n",
    "                if len(df[col].dropna().unique()) != max_size_cats:\n",
    "                    print(f\"[error] something was wrong in column '{col}' reducing its possible values.\")\n",
    "                else:\n",
    "                    if verbose:\n",
    "                        print(f\"[info] it was simplified the categorical variable '{col}'.\")\n",
    "            else:\n",
    "                pass\n",
    "            # clean\n",
    "            del temp\n",
    "    # return \n",
    "    return df"
   ]
  },
  {
   "cell_type": "code",
   "execution_count": 54,
   "id": "9dcceaa2-f41b-4e28-9485-691bf5c3fb66",
   "metadata": {},
   "outputs": [
    {
     "name": "stdout",
     "output_type": "stream",
     "text": [
      "[warning] It has taken a random sample with 5000 records.\n",
      "[info] it was simplified the categorical variable 'WD'.\n",
      "[info] it was simplified the categorical variable 'cloud_coverage'.\n"
     ]
    }
   ],
   "source": [
    "data_processed = preparation(data)"
   ]
  },
  {
   "cell_type": "code",
   "execution_count": 55,
   "id": "a5da5429-33c5-4e05-8272-84615e5f9489",
   "metadata": {},
   "outputs": [
    {
     "data": {
      "text/plain": [
       "(5000, 16)"
      ]
     },
     "execution_count": 55,
     "metadata": {},
     "output_type": "execute_result"
    }
   ],
   "source": [
    "data_processed.shape"
   ]
  },
  {
   "cell_type": "code",
   "execution_count": 58,
   "id": "c6a0a85d-89df-44b8-8772-123219cdaa75",
   "metadata": {},
   "outputs": [
    {
     "data": {
      "text/plain": [
       "array(['SSE', 'other', 'NNW', 'NW', 'S', nan], dtype=object)"
      ]
     },
     "execution_count": 58,
     "metadata": {},
     "output_type": "execute_result"
    }
   ],
   "source": [
    "data_processed['WD'].unique()"
   ]
  },
  {
   "cell_type": "code",
   "execution_count": 59,
   "id": "b35d1efb-9d5c-421e-8bca-2f11be06f277",
   "metadata": {},
   "outputs": [
    {
     "data": {
      "text/plain": [
       "array([nan, 'other', '10-', '10', '0', '0+'], dtype=object)"
      ]
     },
     "execution_count": 59,
     "metadata": {},
     "output_type": "execute_result"
    }
   ],
   "source": [
    "data_processed['cloud_coverage'].unique()"
   ]
  },
  {
   "cell_type": "code",
   "execution_count": null,
   "id": "fc427ecd-5ef9-41a5-b9e0-a1c286eb0549",
   "metadata": {},
   "outputs": [],
   "source": []
  }
 ],
 "metadata": {
  "kernelspec": {
   "display_name": "dat",
   "language": "python",
   "name": "dat"
  },
  "language_info": {
   "codemirror_mode": {
    "name": "ipython",
    "version": 3
   },
   "file_extension": ".py",
   "mimetype": "text/x-python",
   "name": "python",
   "nbconvert_exporter": "python",
   "pygments_lexer": "ipython3",
   "version": "3.7.0"
  }
 },
 "nbformat": 4,
 "nbformat_minor": 5
}
