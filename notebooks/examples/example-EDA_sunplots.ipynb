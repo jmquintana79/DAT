{
 "cells": [
  {
   "cell_type": "markdown",
   "id": "assisted-county",
   "metadata": {
    "pycharm": {
     "name": "#%% md\n"
    }
   },
   "source": [
    "# EDA: describe\n",
    "\n",
    "Es una ampliacion de la informacion descriptiva del metodo *describe()* de *Pandas*."
   ]
  },
  {
   "cell_type": "code",
   "execution_count": 1,
   "id": "individual-preview",
   "metadata": {
    "pycharm": {
     "name": "#%%\n"
    },
    "tags": []
   },
   "outputs": [],
   "source": [
    "%matplotlib inline\n",
    "import sys\n",
    "sys.path.append('../') \n",
    "import warnings\n",
    "warnings.filterwarnings('ignore')\n",
    "from sklearn.datasets import load_iris\n",
    "import pandas as pd\n",
    "pd.options.display.max_rows = 999\n",
    "pd.options.display.max_columns = 99\n",
    "import numpy as np\n",
    "from datetime import datetime\n",
    "from eda import describe_info, describe_numeric, describe_categorical, describe_datetime, describe_bivariate, describe_missing, describe_duplicates, describe_outliers"
   ]
  },
  {
   "cell_type": "markdown",
   "id": "08bf4bb9-97a7-4fdb-b5bd-4448b754b53d",
   "metadata": {
    "pycharm": {
     "name": "#%% md\n"
    }
   },
   "source": [
    "---\n",
    "## LOAD *Monthly Sunpots* data"
   ]
  },
  {
   "cell_type": "code",
   "execution_count": 45,
   "id": "5f26bad1-249b-4fe0-9106-8fe47ea22164",
   "metadata": {
    "pycharm": {
     "name": "#%%\n"
    }
   },
   "outputs": [],
   "source": [
    "url_data = \"https://raw.githubusercontent.com/jmquintana79/Datasets/master/monthly-sunspots.csv\"\n",
    "data = pd.read_csv(url_data, sep = ',').set_index(\"Month\")\n",
    "data[\"month\"] = [m.split(\"-\")[1] for m in data.index]"
   ]
  },
  {
   "cell_type": "markdown",
   "id": "6e624105-aa64-47c8-ac0b-a8a248347d53",
   "metadata": {
    "pycharm": {
     "name": "#%% md\n"
    }
   },
   "source": [
    "### general info"
   ]
  },
  {
   "cell_type": "code",
   "execution_count": 46,
   "id": "f22acfdb-8a20-4731-bed4-2d5f8e692062",
   "metadata": {
    "pycharm": {
     "name": "#%%\n"
    }
   },
   "outputs": [
    {
     "data": {
      "text/html": [
       "<div>\n",
       "<style scoped>\n",
       "    .dataframe tbody tr th:only-of-type {\n",
       "        vertical-align: middle;\n",
       "    }\n",
       "\n",
       "    .dataframe tbody tr th {\n",
       "        vertical-align: top;\n",
       "    }\n",
       "\n",
       "    .dataframe thead th {\n",
       "        text-align: right;\n",
       "    }\n",
       "</style>\n",
       "<table border=\"1\" class=\"dataframe\">\n",
       "  <thead>\n",
       "    <tr style=\"text-align: right;\">\n",
       "      <th></th>\n",
       "      <th>types</th>\n",
       "      <th>mixed_types</th>\n",
       "      <th>unique</th>\n",
       "      <th>magnitude</th>\n",
       "      <th>%nan</th>\n",
       "      <th>num_records</th>\n",
       "    </tr>\n",
       "    <tr>\n",
       "      <th>variable</th>\n",
       "      <th></th>\n",
       "      <th></th>\n",
       "      <th></th>\n",
       "      <th></th>\n",
       "      <th></th>\n",
       "      <th></th>\n",
       "    </tr>\n",
       "  </thead>\n",
       "  <tbody>\n",
       "    <tr>\n",
       "      <th>Sunspots</th>\n",
       "      <td>float64</td>\n",
       "      <td>float</td>\n",
       "      <td>1140</td>\n",
       "      <td>1.0</td>\n",
       "      <td>0.0</td>\n",
       "      <td>2820</td>\n",
       "    </tr>\n",
       "    <tr>\n",
       "      <th>month</th>\n",
       "      <td>object</td>\n",
       "      <td>str</td>\n",
       "      <td>12</td>\n",
       "      <td>NaN</td>\n",
       "      <td>0.0</td>\n",
       "      <td>2820</td>\n",
       "    </tr>\n",
       "  </tbody>\n",
       "</table>\n",
       "</div>"
      ],
      "text/plain": [
       "            types mixed_types  unique  magnitude  %nan  num_records\n",
       "variable                                                           \n",
       "Sunspots  float64       float    1140        1.0   0.0         2820\n",
       "month      object         str      12        NaN   0.0         2820"
      ]
     },
     "execution_count": 46,
     "metadata": {},
     "output_type": "execute_result"
    }
   ],
   "source": [
    "describe_info(data)"
   ]
  },
  {
   "cell_type": "markdown",
   "id": "97c4d5d9-7b2e-44e2-9b67-0317317baf80",
   "metadata": {
    "pycharm": {
     "name": "#%% md\n"
    }
   },
   "source": [
    "### numerical"
   ]
  },
  {
   "cell_type": "code",
   "execution_count": 47,
   "id": "4d1dc140-1ebd-425a-a25b-db95850a0361",
   "metadata": {
    "pycharm": {
     "name": "#%%\n"
    }
   },
   "outputs": [
    {
     "name": "stdout",
     "output_type": "stream",
     "text": [
      "[info] Function \"describe_numeric()\" finished in 2.46 seconds.\n"
     ]
    },
    {
     "data": {
      "text/html": [
       "<div>\n",
       "<style scoped>\n",
       "    .dataframe tbody tr th:only-of-type {\n",
       "        vertical-align: middle;\n",
       "    }\n",
       "\n",
       "    .dataframe tbody tr th {\n",
       "        vertical-align: top;\n",
       "    }\n",
       "\n",
       "    .dataframe thead th {\n",
       "        text-align: right;\n",
       "    }\n",
       "</style>\n",
       "<table border=\"1\" class=\"dataframe\">\n",
       "  <thead>\n",
       "    <tr style=\"text-align: right;\">\n",
       "      <th></th>\n",
       "      <th>count</th>\n",
       "      <th>mode</th>\n",
       "      <th>mode_per</th>\n",
       "      <th>mean</th>\n",
       "      <th>std</th>\n",
       "      <th>iqr</th>\n",
       "      <th>min</th>\n",
       "      <th>5%</th>\n",
       "      <th>25%</th>\n",
       "      <th>50%</th>\n",
       "      <th>75%</th>\n",
       "      <th>95%</th>\n",
       "      <th>max</th>\n",
       "      <th>kurtosis</th>\n",
       "      <th>skew</th>\n",
       "      <th>uniform</th>\n",
       "      <th>gaussian</th>\n",
       "      <th>expo</th>\n",
       "      <th>unimodal</th>\n",
       "    </tr>\n",
       "  </thead>\n",
       "  <tbody>\n",
       "    <tr>\n",
       "      <th>Sunspots</th>\n",
       "      <td>2820</td>\n",
       "      <td>0.0</td>\n",
       "      <td>2.38</td>\n",
       "      <td>51.27</td>\n",
       "      <td>43.45</td>\n",
       "      <td>59.23</td>\n",
       "      <td>0.0</td>\n",
       "      <td>1.7</td>\n",
       "      <td>15.7</td>\n",
       "      <td>42.0</td>\n",
       "      <td>74.93</td>\n",
       "      <td>138.2</td>\n",
       "      <td>253.8</td>\n",
       "      <td>0.98</td>\n",
       "      <td>1.1</td>\n",
       "      <td>False</td>\n",
       "      <td>False</td>\n",
       "      <td>False</td>\n",
       "      <td>True</td>\n",
       "    </tr>\n",
       "  </tbody>\n",
       "</table>\n",
       "</div>"
      ],
      "text/plain": [
       "          count  mode  mode_per   mean    std    iqr  min   5%   25%   50%  \\\n",
       "Sunspots   2820   0.0      2.38  51.27  43.45  59.23  0.0  1.7  15.7  42.0   \n",
       "\n",
       "            75%    95%    max  kurtosis  skew  uniform  gaussian   expo  \\\n",
       "Sunspots  74.93  138.2  253.8      0.98   1.1    False     False  False   \n",
       "\n",
       "          unimodal  \n",
       "Sunspots      True  "
      ]
     },
     "execution_count": 47,
     "metadata": {},
     "output_type": "execute_result"
    }
   ],
   "source": [
    "# describe\n",
    "dfn = describe_numeric(data, alpha = .05)\n",
    "dfn"
   ]
  },
  {
   "cell_type": "markdown",
   "id": "0d1d49a5-38e4-4411-a932-23d5768d6a7c",
   "metadata": {
    "pycharm": {
     "name": "#%% md\n"
    }
   },
   "source": [
    "### categorical"
   ]
  },
  {
   "cell_type": "code",
   "execution_count": 48,
   "id": "8d6c5168-1e94-4aa5-9ed9-bccb1c1f4280",
   "metadata": {
    "pycharm": {
     "name": "#%%\n"
    }
   },
   "outputs": [
    {
     "name": "stdout",
     "output_type": "stream",
     "text": [
      "[info] Function \"describe_categorical()\" finished in 0.04 seconds.\n"
     ]
    },
    {
     "data": {
      "text/html": [
       "<div>\n",
       "<style scoped>\n",
       "    .dataframe tbody tr th:only-of-type {\n",
       "        vertical-align: middle;\n",
       "    }\n",
       "\n",
       "    .dataframe tbody tr th {\n",
       "        vertical-align: top;\n",
       "    }\n",
       "\n",
       "    .dataframe thead th {\n",
       "        text-align: right;\n",
       "    }\n",
       "</style>\n",
       "<table border=\"1\" class=\"dataframe\">\n",
       "  <thead>\n",
       "    <tr style=\"text-align: right;\">\n",
       "      <th></th>\n",
       "      <th>count</th>\n",
       "      <th>unique</th>\n",
       "      <th>uniform</th>\n",
       "      <th>value0</th>\n",
       "      <th>value1</th>\n",
       "      <th>value2</th>\n",
       "      <th>value3</th>\n",
       "      <th>value4</th>\n",
       "      <th>value5</th>\n",
       "      <th>value6</th>\n",
       "      <th>value7</th>\n",
       "      <th>value8</th>\n",
       "      <th>value9</th>\n",
       "      <th>value10</th>\n",
       "      <th>value11</th>\n",
       "      <th>%value0</th>\n",
       "      <th>%value1</th>\n",
       "      <th>%value2</th>\n",
       "      <th>%value3</th>\n",
       "      <th>%value4</th>\n",
       "      <th>%value5</th>\n",
       "      <th>%value6</th>\n",
       "      <th>%value7</th>\n",
       "      <th>%value8</th>\n",
       "      <th>%value9</th>\n",
       "      <th>%value10</th>\n",
       "      <th>%value11</th>\n",
       "    </tr>\n",
       "    <tr>\n",
       "      <th>var</th>\n",
       "      <th></th>\n",
       "      <th></th>\n",
       "      <th></th>\n",
       "      <th></th>\n",
       "      <th></th>\n",
       "      <th></th>\n",
       "      <th></th>\n",
       "      <th></th>\n",
       "      <th></th>\n",
       "      <th></th>\n",
       "      <th></th>\n",
       "      <th></th>\n",
       "      <th></th>\n",
       "      <th></th>\n",
       "      <th></th>\n",
       "      <th></th>\n",
       "      <th></th>\n",
       "      <th></th>\n",
       "      <th></th>\n",
       "      <th></th>\n",
       "      <th></th>\n",
       "      <th></th>\n",
       "      <th></th>\n",
       "      <th></th>\n",
       "      <th></th>\n",
       "      <th></th>\n",
       "      <th></th>\n",
       "    </tr>\n",
       "  </thead>\n",
       "  <tbody>\n",
       "    <tr>\n",
       "      <th>month</th>\n",
       "      <td>2820</td>\n",
       "      <td>12</td>\n",
       "      <td>True</td>\n",
       "      <td>03</td>\n",
       "      <td>06</td>\n",
       "      <td>02</td>\n",
       "      <td>09</td>\n",
       "      <td>10</td>\n",
       "      <td>12</td>\n",
       "      <td>01</td>\n",
       "      <td>05</td>\n",
       "      <td>08</td>\n",
       "      <td>07</td>\n",
       "      <td>11</td>\n",
       "      <td>04</td>\n",
       "      <td>8.33</td>\n",
       "      <td>8.33</td>\n",
       "      <td>8.33</td>\n",
       "      <td>8.33</td>\n",
       "      <td>8.33</td>\n",
       "      <td>8.33</td>\n",
       "      <td>8.33</td>\n",
       "      <td>8.33</td>\n",
       "      <td>8.33</td>\n",
       "      <td>8.33</td>\n",
       "      <td>8.33</td>\n",
       "      <td>8.33</td>\n",
       "    </tr>\n",
       "  </tbody>\n",
       "</table>\n",
       "</div>"
      ],
      "text/plain": [
       "      count unique  uniform value0 value1 value2 value3 value4 value5 value6  \\\n",
       "var                                                                            \n",
       "month  2820     12     True     03     06     02     09     10     12     01   \n",
       "\n",
       "      value7 value8 value9 value10 value11 %value0 %value1 %value2 %value3  \\\n",
       "var                                                                          \n",
       "month     05     08     07      11      04    8.33    8.33    8.33    8.33   \n",
       "\n",
       "      %value4 %value5 %value6 %value7 %value8 %value9 %value10 %value11  \n",
       "var                                                                      \n",
       "month    8.33    8.33    8.33    8.33    8.33    8.33     8.33     8.33  "
      ]
     },
     "execution_count": 48,
     "metadata": {},
     "output_type": "execute_result"
    }
   ],
   "source": [
    "# describe\n",
    "dfc = describe_categorical(data, max_size_cats = 12, alpha = .05)\n",
    "dfc"
   ]
  },
  {
   "cell_type": "markdown",
   "id": "9a59dd33-c1fc-4c17-894f-f33c763b9b1a",
   "metadata": {
    "pycharm": {
     "name": "#%% md\n"
    }
   },
   "source": [
    "### bivariate relationship"
   ]
  },
  {
   "cell_type": "code",
   "execution_count": 49,
   "id": "378c16f5-384e-4ff4-9e0d-6726bcb2577b",
   "metadata": {
    "pycharm": {
     "name": "#%%\n"
    }
   },
   "outputs": [
    {
     "name": "stdout",
     "output_type": "stream",
     "text": [
      "[info] it was simplified the categorical variable 'month'.\n",
      "[info] Function \"describe_bivariate()\" finished in 0.05 seconds.\n"
     ]
    },
    {
     "data": {
      "text/html": [
       "<div>\n",
       "<style scoped>\n",
       "    .dataframe tbody tr th:only-of-type {\n",
       "        vertical-align: middle;\n",
       "    }\n",
       "\n",
       "    .dataframe tbody tr th {\n",
       "        vertical-align: top;\n",
       "    }\n",
       "\n",
       "    .dataframe thead th {\n",
       "        text-align: right;\n",
       "    }\n",
       "</style>\n",
       "<table border=\"1\" class=\"dataframe\">\n",
       "  <thead>\n",
       "    <tr style=\"text-align: right;\">\n",
       "      <th></th>\n",
       "      <th>variable1</th>\n",
       "      <th>variable2</th>\n",
       "      <th>depend_corr_linear</th>\n",
       "      <th>corr_linear</th>\n",
       "      <th>corr_non_linear</th>\n",
       "      <th>depend_chi2</th>\n",
       "      <th>subsamples_diff_dist</th>\n",
       "    </tr>\n",
       "  </thead>\n",
       "  <tbody>\n",
       "    <tr>\n",
       "      <th>0</th>\n",
       "      <td>month</td>\n",
       "      <td>Sunspots</td>\n",
       "      <td>NaN</td>\n",
       "      <td>NaN</td>\n",
       "      <td>NaN</td>\n",
       "      <td>NaN</td>\n",
       "      <td>False</td>\n",
       "    </tr>\n",
       "  </tbody>\n",
       "</table>\n",
       "</div>"
      ],
      "text/plain": [
       "  variable1 variable2 depend_corr_linear corr_linear corr_non_linear  \\\n",
       "0     month  Sunspots                NaN         NaN             NaN   \n",
       "\n",
       "  depend_chi2 subsamples_diff_dist  \n",
       "0         NaN                False  "
      ]
     },
     "execution_count": 49,
     "metadata": {},
     "output_type": "execute_result"
    }
   ],
   "source": [
    "describe_bivariate(data, size_max_sample=500)"
   ]
  },
  {
   "cell_type": "markdown",
   "id": "82e33032-a301-4f11-ad8e-79bf337e769f",
   "metadata": {
    "pycharm": {
     "name": "#%% md\n"
    }
   },
   "source": [
    "### missing values"
   ]
  },
  {
   "cell_type": "code",
   "execution_count": 50,
   "id": "073236e6-3037-405e-a926-4a1ee485208f",
   "metadata": {
    "pycharm": {
     "name": "#%%\n"
    }
   },
   "outputs": [
    {
     "data": {
      "image/png": "[encoded data removed]",
      "text/plain": [
       "<Figure size 1800x720 with 2 Axes>"
      ]
     },
     "metadata": {
      "needs_background": "light"
     },
     "output_type": "display_data"
    },
    {
     "data": {
      "image/png": "[encoded data removed]",
      "text/plain": [
       "<Figure size 1728x720 with 3 Axes>"
      ]
     },
     "metadata": {
      "needs_background": "light"
     },
     "output_type": "display_data"
    },
    {
     "data": {
      "image/png": "[encoded data removed]",
      "text/plain": [
       "<Figure size 1440x864 with 2 Axes>"
      ]
     },
     "metadata": {
      "needs_background": "light"
     },
     "output_type": "display_data"
    }
   ],
   "source": [
    "describe_missing(data)"
   ]
  },
  {
   "cell_type": "markdown",
   "id": "fcd0b05d-cd83-4b0b-89fb-e04030706819",
   "metadata": {},
   "source": [
    "### outliers analysis"
   ]
  },
  {
   "cell_type": "code",
   "execution_count": 51,
   "id": "dd9e11b8-0d51-45af-aba4-8af5953e9433",
   "metadata": {
    "tags": []
   },
   "outputs": [
    {
     "data": {
      "image/png": "[encoded data removed]",
      "text/plain": [
       "<Figure size 1800x720 with 2 Axes>"
      ]
     },
     "metadata": {
      "needs_background": "light"
     },
     "output_type": "display_data"
    },
    {
     "data": {
      "image/png": "[encoded data removed]",
      "text/plain": [
       "<Figure size 1728x720 with 3 Axes>"
      ]
     },
     "metadata": {
      "needs_background": "light"
     },
     "output_type": "display_data"
    },
    {
     "data": {
      "image/png": "[encoded data removed]",
      "text/plain": [
       "<Figure size 1440x864 with 2 Axes>"
      ]
     },
     "metadata": {
      "needs_background": "light"
     },
     "output_type": "display_data"
    }
   ],
   "source": [
    "describe_outliers(data)"
   ]
  },
  {
   "cell_type": "markdown",
   "id": "3b50d66d-ebfc-4e82-bf27-8c9c97a6d266",
   "metadata": {
    "pycharm": {
     "name": "#%% md\n"
    }
   },
   "source": [
    "### duplicates"
   ]
  },
  {
   "cell_type": "code",
   "execution_count": 52,
   "id": "c26d1597-aedf-49fb-99da-dab64d3cf26b",
   "metadata": {
    "pycharm": {
     "name": "#%%\n"
    }
   },
   "outputs": [
    {
     "name": "stdout",
     "output_type": "stream",
     "text": [
      "[info] Function \"describe_duplicates()\" finished in 0.01 seconds.\n"
     ]
    },
    {
     "data": {
      "text/html": [
       "<div>\n",
       "<style scoped>\n",
       "    .dataframe tbody tr th:only-of-type {\n",
       "        vertical-align: middle;\n",
       "    }\n",
       "\n",
       "    .dataframe tbody tr th {\n",
       "        vertical-align: top;\n",
       "    }\n",
       "\n",
       "    .dataframe thead th {\n",
       "        text-align: right;\n",
       "    }\n",
       "</style>\n",
       "<table border=\"1\" class=\"dataframe\">\n",
       "  <thead>\n",
       "    <tr style=\"text-align: right;\">\n",
       "      <th></th>\n",
       "      <th>col0</th>\n",
       "      <th>num_cols</th>\n",
       "      <th>percent_dupli</th>\n",
       "    </tr>\n",
       "  </thead>\n",
       "  <tbody>\n",
       "    <tr>\n",
       "      <th>0</th>\n",
       "      <td>month</td>\n",
       "      <td>1</td>\n",
       "      <td>99.822695</td>\n",
       "    </tr>\n",
       "  </tbody>\n",
       "</table>\n",
       "</div>"
      ],
      "text/plain": [
       "    col0  num_cols  percent_dupli\n",
       "0  month         1      99.822695"
      ]
     },
     "execution_count": 52,
     "metadata": {},
     "output_type": "execute_result"
    }
   ],
   "source": [
    "describe_duplicates(data)"
   ]
  },
  {
   "cell_type": "code",
   "execution_count": null,
   "id": "c84c9742-d3c0-4a04-b20a-e1d18446a616",
   "metadata": {},
   "outputs": [],
   "source": []
  }
 ],
 "metadata": {
  "kernelspec": {
   "display_name": "dat",
   "language": "python",
   "name": "python3"
  },
  "language_info": {
   "codemirror_mode": {
    "name": "ipython",
    "version": 3
   },
   "file_extension": ".py",
   "mimetype": "text/x-python",
   "name": "python",
   "nbconvert_exporter": "python",
   "pygments_lexer": "ipython3",
   "version": "3.7.0 (default, Jun 28 2018, 07:39:16) \n[Clang 4.0.1 (tags/RELEASE_401/final)]"
  },
  "vscode": {
   "interpreter": {
    "hash": "909303fe28134380d7b970678b55f2728cc32eac8c0ab5c069aaae2f97cb12bd"
   }
  }
 },
 "nbformat": 4,
 "nbformat_minor": 5
}
